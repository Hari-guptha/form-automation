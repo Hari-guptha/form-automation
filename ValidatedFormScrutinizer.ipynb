{
  "cells": [
    {
      "cell_type": "code",
      "execution_count": 1,
      "metadata": {
        "id": "00e0e8a6",
        "colab": {
          "base_uri": "https://localhost:8080/"
        },
        "outputId": "0d10db21-fbd9-4513-97a2-35726fd0826d"
      },
      "outputs": [
        {
          "output_type": "stream",
          "name": "stdout",
          "text": [
            "Collecting msrest\n",
            "  Downloading msrest-0.6.21-py2.py3-none-any.whl (85 kB)\n",
            "\u001b[?25l\r\u001b[K     |███▉                            | 10 kB 23.8 MB/s eta 0:00:01\r\u001b[K     |███████▊                        | 20 kB 26.3 MB/s eta 0:00:01\r\u001b[K     |███████████▌                    | 30 kB 22.3 MB/s eta 0:00:01\r\u001b[K     |███████████████▍                | 40 kB 13.0 MB/s eta 0:00:01\r\u001b[K     |███████████████████▎            | 51 kB 12.1 MB/s eta 0:00:01\r\u001b[K     |███████████████████████         | 61 kB 14.0 MB/s eta 0:00:01\r\u001b[K     |███████████████████████████     | 71 kB 14.0 MB/s eta 0:00:01\r\u001b[K     |██████████████████████████████▊ | 81 kB 15.3 MB/s eta 0:00:01\r\u001b[K     |████████████████████████████████| 85 kB 2.4 MB/s \n",
            "\u001b[?25hRequirement already satisfied: requests~=2.16 in /usr/local/lib/python3.7/dist-packages (from msrest) (2.23.0)\n",
            "Requirement already satisfied: certifi>=2017.4.17 in /usr/local/lib/python3.7/dist-packages (from msrest) (2021.10.8)\n",
            "Collecting isodate>=0.6.0\n",
            "  Downloading isodate-0.6.1-py2.py3-none-any.whl (41 kB)\n",
            "\u001b[?25l\r\u001b[K     |███████▉                        | 10 kB 30.7 MB/s eta 0:00:01\r\u001b[K     |███████████████▊                | 20 kB 40.2 MB/s eta 0:00:01\r\u001b[K     |███████████████████████▋        | 30 kB 46.1 MB/s eta 0:00:01\r\u001b[K     |███████████████████████████████▍| 40 kB 48.8 MB/s eta 0:00:01\r\u001b[K     |████████████████████████████████| 41 kB 724 kB/s \n",
            "\u001b[?25hRequirement already satisfied: requests-oauthlib>=0.5.0 in /usr/local/lib/python3.7/dist-packages (from msrest) (1.3.1)\n",
            "Requirement already satisfied: six in /usr/local/lib/python3.7/dist-packages (from isodate>=0.6.0->msrest) (1.15.0)\n",
            "Requirement already satisfied: idna<3,>=2.5 in /usr/local/lib/python3.7/dist-packages (from requests~=2.16->msrest) (2.10)\n",
            "Requirement already satisfied: chardet<4,>=3.0.2 in /usr/local/lib/python3.7/dist-packages (from requests~=2.16->msrest) (3.0.4)\n",
            "Requirement already satisfied: urllib3!=1.25.0,!=1.25.1,<1.26,>=1.21.1 in /usr/local/lib/python3.7/dist-packages (from requests~=2.16->msrest) (1.24.3)\n",
            "Requirement already satisfied: oauthlib>=3.0.0 in /usr/local/lib/python3.7/dist-packages (from requests-oauthlib>=0.5.0->msrest) (3.2.0)\n",
            "Installing collected packages: isodate, msrest\n",
            "Successfully installed isodate-0.6.1 msrest-0.6.21\n"
          ]
        }
      ],
      "source": [
        "pip install msrest"
      ],
      "id": "00e0e8a6"
    },
    {
      "cell_type": "code",
      "execution_count": 2,
      "metadata": {
        "id": "fd10e7d0",
        "colab": {
          "base_uri": "https://localhost:8080/"
        },
        "outputId": "8acc168a-c90d-495e-d6e4-e36739996da9"
      },
      "outputs": [
        {
          "output_type": "stream",
          "name": "stdout",
          "text": [
            "Requirement already satisfied: requests in /usr/local/lib/python3.7/dist-packages (2.23.0)\n",
            "Requirement already satisfied: chardet<4,>=3.0.2 in /usr/local/lib/python3.7/dist-packages (from requests) (3.0.4)\n",
            "Requirement already satisfied: idna<3,>=2.5 in /usr/local/lib/python3.7/dist-packages (from requests) (2.10)\n",
            "Requirement already satisfied: certifi>=2017.4.17 in /usr/local/lib/python3.7/dist-packages (from requests) (2021.10.8)\n",
            "Requirement already satisfied: urllib3!=1.25.0,!=1.25.1,<1.26,>=1.21.1 in /usr/local/lib/python3.7/dist-packages (from requests) (1.24.3)\n"
          ]
        }
      ],
      "source": [
        "pip install requests"
      ],
      "id": "fd10e7d0"
    },
    {
      "cell_type": "code",
      "execution_count": 3,
      "metadata": {
        "id": "0f6fbbcc",
        "colab": {
          "base_uri": "https://localhost:8080/"
        },
        "outputId": "2833c266-4516-40b8-dafa-8602273767a3"
      },
      "outputs": [
        {
          "output_type": "stream",
          "name": "stdout",
          "text": [
            "Requirement already satisfied: Pillow in /usr/local/lib/python3.7/dist-packages (7.1.2)\n"
          ]
        }
      ],
      "source": [
        "pip install Pillow"
      ],
      "id": "0f6fbbcc"
    },
    {
      "cell_type": "code",
      "execution_count": 4,
      "metadata": {
        "id": "jzRJYj3uLTar",
        "colab": {
          "base_uri": "https://localhost:8080/"
        },
        "outputId": "eae0330f-141f-4303-b2e2-8726b3b2c6a0"
      },
      "outputs": [
        {
          "output_type": "stream",
          "name": "stdout",
          "text": [
            "Collecting azure-cognitiveservices-vision-computervision\n",
            "  Downloading azure_cognitiveservices_vision_computervision-0.9.0-py2.py3-none-any.whl (39 kB)\n",
            "Requirement already satisfied: msrest>=0.5.0 in /usr/local/lib/python3.7/dist-packages (from azure-cognitiveservices-vision-computervision) (0.6.21)\n",
            "Collecting azure-common~=1.1\n",
            "  Downloading azure_common-1.1.28-py2.py3-none-any.whl (14 kB)\n",
            "Requirement already satisfied: isodate>=0.6.0 in /usr/local/lib/python3.7/dist-packages (from msrest>=0.5.0->azure-cognitiveservices-vision-computervision) (0.6.1)\n",
            "Requirement already satisfied: requests-oauthlib>=0.5.0 in /usr/local/lib/python3.7/dist-packages (from msrest>=0.5.0->azure-cognitiveservices-vision-computervision) (1.3.1)\n",
            "Requirement already satisfied: requests~=2.16 in /usr/local/lib/python3.7/dist-packages (from msrest>=0.5.0->azure-cognitiveservices-vision-computervision) (2.23.0)\n",
            "Requirement already satisfied: certifi>=2017.4.17 in /usr/local/lib/python3.7/dist-packages (from msrest>=0.5.0->azure-cognitiveservices-vision-computervision) (2021.10.8)\n",
            "Requirement already satisfied: six in /usr/local/lib/python3.7/dist-packages (from isodate>=0.6.0->msrest>=0.5.0->azure-cognitiveservices-vision-computervision) (1.15.0)\n",
            "Requirement already satisfied: chardet<4,>=3.0.2 in /usr/local/lib/python3.7/dist-packages (from requests~=2.16->msrest>=0.5.0->azure-cognitiveservices-vision-computervision) (3.0.4)\n",
            "Requirement already satisfied: idna<3,>=2.5 in /usr/local/lib/python3.7/dist-packages (from requests~=2.16->msrest>=0.5.0->azure-cognitiveservices-vision-computervision) (2.10)\n",
            "Requirement already satisfied: urllib3!=1.25.0,!=1.25.1,<1.26,>=1.21.1 in /usr/local/lib/python3.7/dist-packages (from requests~=2.16->msrest>=0.5.0->azure-cognitiveservices-vision-computervision) (1.24.3)\n",
            "Requirement already satisfied: oauthlib>=3.0.0 in /usr/local/lib/python3.7/dist-packages (from requests-oauthlib>=0.5.0->msrest>=0.5.0->azure-cognitiveservices-vision-computervision) (3.2.0)\n",
            "Installing collected packages: azure-common, azure-cognitiveservices-vision-computervision\n",
            "Successfully installed azure-cognitiveservices-vision-computervision-0.9.0 azure-common-1.1.28\n"
          ]
        }
      ],
      "source": [
        "pip install azure-cognitiveservices-vision-computervision"
      ],
      "id": "jzRJYj3uLTar"
    },
    {
      "cell_type": "code",
      "execution_count": 5,
      "metadata": {
        "id": "114b54b5"
      },
      "outputs": [],
      "source": [
        "import os\n",
        "import io\n",
        "from  msrest.authentication import CognitiveServicesCredentials\n",
        "from azure.cognitiveservices.vision.computervision import ComputerVisionClient\n",
        "from azure.cognitiveservices.vision.computervision.models import OperationStatusCodes,VisualFeatureTypes\n",
        "import requests\n",
        "from PIL import Image,ImageDraw,ImageFont\n",
        "import json \n",
        "import cv2\n",
        "import numpy as np\n",
        "import matplotlib.pyplot as plt\n",
        "from google.colab.patches import cv2_imshow\n",
        "import re\n",
        "import sys\n",
        "import argparse\n",
        "import random as rng\n",
        "import time"
      ],
      "id": "114b54b5"
    },
    {
      "cell_type": "code",
      "source": [
        "list1=[]\n",
        "Data=[]"
      ],
      "metadata": {
        "id": "LzIlmX7cuvXf"
      },
      "id": "LzIlmX7cuvXf",
      "execution_count": 228,
      "outputs": []
    },
    {
      "cell_type": "code",
      "source": [
        "\n",
        "#Code for making ORB ed image\n",
        "def orbmaker(reference,actualimage):\n",
        "    im1=cv2.imread(reference,cv2.IMREAD_COLOR)\n",
        "    im1=cv2.cvtColor(im1,cv2.COLOR_BGR2RGB)\n",
        "    im2=cv2.imread(actualimage,cv2.IMREAD_COLOR)\n",
        "    im2=cv2.cvtColor(im2,cv2.COLOR_BGR2RGB)\n",
        "    im1_gray=cv2.cvtColor(im1,cv2.COLOR_BGR2GRAY)\n",
        "    im2_gray=cv2.cvtColor(im2,cv2.COLOR_BGR2GRAY)\n",
        "    maxfeatures=500\n",
        "    orb=cv2.ORB_create(maxfeatures)\n",
        "    keypoints1,descriptors1=orb.detectAndCompute(im1_gray,None)\n",
        "    keypoints2,descriptors2=orb.detectAndCompute(im2_gray,None)\n",
        "    im1_display=cv2.drawKeypoints(im1,keypoints1,outImage=np.array([]),color=(255,0,0),flags=cv2.DRAW_MATCHES_FLAGS_DEFAULT)\n",
        "    im2_display=cv2.drawKeypoints(im2,keypoints2,outImage=np.array([]),color=(255,0,0),flags=cv2.DRAW_MATCHES_FLAGS_DEFAULT)\n",
        "    matcher=cv2.DescriptorMatcher_create(cv2.DESCRIPTOR_MATCHER_BRUTEFORCE_HAMMING)\n",
        "    matches=matcher.match(descriptors1,descriptors2,None)\n",
        "    im_matches=cv2.drawMatches(im1,keypoints1,im2,keypoints2,matches,None)\n",
        "    points1=np.zeros((len(matches),2),dtype=np.float32)\n",
        "    points2=np.zeros((len(matches),2),dtype=np.float32)\n",
        "    for i,match in enumerate(matches):\n",
        "        points1[i,:]=keypoints1[match.queryIdx].pt\n",
        "        points2[i,:]=keypoints2[match.trainIdx].pt\n",
        "        h,mask=cv2.findHomography(points2,points1,cv2.RANSAC)\n",
        "    height,width,channels=im1.shape\n",
        "    im2_reg=cv2.warpPerspective(im2,h,(width,height))\n",
        "    return im2_reg"
      ],
      "metadata": {
        "id": "tBmLroMhKS5u"
      },
      "id": "tBmLroMhKS5u",
      "execution_count": 213,
      "outputs": []
    },
    {
      "cell_type": "code",
      "source": [
        "#Mirror image resolver\n",
        "\n",
        "def read_this(image_file, gray_scale=False):\n",
        "    image_src = cv2.imread(image_file)\n",
        "    if gray_scale:\n",
        "        image_rgb = cv2.cvtColor(image_src, cv2.COLOR_BGR2GRAY)\n",
        "    else:\n",
        "        image_rgb = cv2.cvtColor(image_src, cv2.COLOR_BGR2RGB)\n",
        "    return image_rgb\n",
        "\n",
        "def mirror_this(image_file, gray_scale=False, with_plot=False):\n",
        "    image_rgb = read_this(image_file=image_file, gray_scale=gray_scale)\n",
        "    image_mirror = np.fliplr(image_rgb)\n",
        "    if with_plot:\n",
        "        fig = plt.figure(figsize=(10, 20))\n",
        "        ax1 = fig.add_subplot(2, 2, 1)\n",
        "        ax1.axis(\"off\")\n",
        "        ax1.title.set_text('Original')\n",
        "        ax2 = fig.add_subplot(2, 2, 2)\n",
        "        ax2.axis(\"off\")\n",
        "        ax2.title.set_text(\"Mirrored\")\n",
        "        if not gray_scale:\n",
        "            ax1.imshow(image_rgb)\n",
        "            ax2.imshow(image_mirror)\n",
        "        else:\n",
        "            ax1.imshow(image_rgb, cmap='gray')\n",
        "            ax2.imshow(image_mirror, cmap='gray')\n",
        "        return True\n",
        "    return image_mirror"
      ],
      "metadata": {
        "id": "CxRa_uPc5YX7"
      },
      "id": "CxRa_uPc5YX7",
      "execution_count": 214,
      "outputs": []
    },
    {
      "cell_type": "code",
      "source": [
        "#Facedetector Code\n",
        "def facedetector(image_file):\n",
        "    Image=cv2.imread(image_file)\n",
        "    croppedimage = Image[250:600,600:900]\n",
        "    gray = cv2.cvtColor(croppedimage, cv2.COLOR_BGR2GRAY)\n",
        "\n",
        "    faceCascade = cv2.CascadeClassifier(cv2.data.haarcascades + \"haarcascade_frontalface_default.xml\")\n",
        "    faces = faceCascade.detectMultiScale(\n",
        "        gray,\n",
        "        scaleFactor=1.3,\n",
        "        minNeighbors=3,\n",
        "        minSize=(30, 30)\n",
        "    )\n",
        "\n",
        "    return len(faces)"
      ],
      "metadata": {
        "id": "DpdfHCZ55-xa"
      },
      "id": "DpdfHCZ55-xa",
      "execution_count": 215,
      "outputs": []
    },
    {
      "cell_type": "code",
      "execution_count": 216,
      "metadata": {
        "id": "6921582e"
      },
      "outputs": [],
      "source": [
        "#Function to convert image into text\n",
        "def ocrmaker(image_file):\n",
        "\n",
        "    # api  credential \n",
        "    credential=json.load(open('/content/credential.json'))\n",
        "    API_KEY=credential['subscription_key']\n",
        "    ENDPOINT=credential['endpoint']\n",
        "    cv_client=ComputerVisionClient(ENDPOINT,CognitiveServicesCredentials(API_KEY))\n",
        "\n",
        "    #res=cv_client.read(url='https://1.bp.blogspot.com/-smHHgvypUDw/XxbkVjGqn3I/AAAAAAABwAk/MhFzTZIvwrAQkVdTT59sLVb-0A3PIEgfQCLcBGAsYHQ/s1600/Convert%2BHandwritten%2BNotes%2BInto%2BGoogle%2BDocs.png',language=\"en\",raw=True)\n",
        "    res=cv_client.read_in_stream(open(image_file,'rb'),raw=True,language='en', model_version=\"2022-01-30-preview\")\n",
        "    operation_loc=res.headers['Operation-Location']\n",
        "\n",
        "    operation_key=operation_loc.split('/')[-1]\n",
        "    time.sleep(3)\n",
        "    result=cv_client.get_read_result(operation_key)\n",
        "\n",
        "    if result.status==OperationStatusCodes.succeeded:\n",
        "        read_res=result.analyze_result.read_results\n",
        "        for analysed_res in read_res:\n",
        "            for line in analysed_res.lines:\n",
        "                list1.append(line.text)"
      ],
      "id": "6921582e"
    },
    {
      "cell_type": "code",
      "source": [
        "#driver code for deciding and further proceeding whether an image is mirrored or not\n",
        "def mirrorChecker(Image):\n",
        "    x=0\n",
        "    y=0\n",
        "    for i in range(len(list1)):\n",
        "        if(list1[i]=='PERSONAL DETAILS'):\n",
        "            x=1\n",
        "        else:\n",
        "            y=y+1\n",
        "    if x==1:\n",
        "        if(facedetector(image_file=Image)==1):\n",
        "            Data.append(\"Photo Accepted\")\n",
        "        else:\n",
        "            Data.append(\"Photo Rejected\")\n",
        "\n",
        "    else:\n",
        "        list1.clear()\n",
        "        #Sending image to mirror function\n",
        "        cv2.imwrite(\"mirrored.jpeg\",mirror_this(image_file=Image))\n",
        "        #Sending mirror free image to orb function\n",
        "        cv2.imwrite(\"processed.jpeg\",orbmaker(reference='/content/reference.jpeg',actualimage='/content/mirrored.jpeg'))\n",
        "        #Sending face detector function\n",
        "        if(facedetector(image_file='/content/processed.jpeg')==1):\n",
        "            Data.append(\"Photo Accepted\")\n",
        "        else:\n",
        "            Data.append(\" Photo Rejected\")\n",
        "        # api  credential \n",
        "        ocrmaker('/content/processed.jpeg')\n",
        "\n",
        "    return"
      ],
      "metadata": {
        "id": "ct00LUbmfXWE"
      },
      "id": "ct00LUbmfXWE",
      "execution_count": 217,
      "outputs": []
    },
    {
      "cell_type": "code",
      "source": [
        "def stringappender():\n",
        "\n",
        "#Code to convert list to string\n",
        "    string1=\"\"\n",
        "    for i in range(len(list1)):\n",
        "        string1=string1+list1[i]+\" \"\n",
        "\n",
        "#Assigning different string values to a variable\n",
        "    name=\"Name:\"\n",
        "    fname=\"Father's Name:\"\n",
        "    mname=\"Mother's Name:\"\n",
        "    dob=\"Date of Birth:\"\n",
        "    gender=\"Gender:\"\n",
        "    phone=\"Phone:\"\n",
        "    place=\"Place of Birth:\"\n",
        "    city=\"City:\"\n",
        "    state=\"State:\"\n",
        "    sign=\"Signature :\"\n",
        "    undertaking=\"UNDERTAKING\"\n",
        "\n",
        "#Searching whether the string value in the assigned variable is present in the string1\n",
        "    Name=re.search(name,string1)\n",
        "    Fname=re.search(fname,string1)\n",
        "    Mname=re.search(mname,string1)\n",
        "    Dob=re.search(dob,string1)\n",
        "    Gender=re.search(gender,string1)\n",
        "    Phone=re.search(phone,string1)\n",
        "    Place=re.search(place,string1)\n",
        "    City=re.search(city,string1)\n",
        "    State=re.search(state,string1)\n",
        "    Undertaking=re.search(undertaking,string1)\n",
        "    Signature=re.search(sign,string1)\n",
        "\n",
        "\n",
        "#Declaring an empty string to append the values extracted from the string1 variable\n",
        "    namestring=\"\"\n",
        "    fnamestring=\"\"\n",
        "    mnamestring=\"\"\n",
        "    dobstring=\"\"\n",
        "    genderstring=\"\"\n",
        "    phonestring=\"\"\n",
        "    placestring=\"\"\n",
        "    citystring=\"\"\n",
        "    statestring=\"\"\n",
        "    signstring=\"\"\n",
        "\n",
        "\n",
        "#piece of code to append the extracted string values from the original string named string1\n",
        "    \n",
        "\n",
        "#Name block\n",
        "    for i in range(Name.end(),Fname.start()):\n",
        "        namestring=namestring+string1[i]\n",
        "    namestring=namestring.replace(\" \",\"\")\n",
        "    #Name validation\n",
        "    if (not namestring):\n",
        "        Data.append(\"Null\")\n",
        "    else:\n",
        "        if(not namestring.isdigit()):\n",
        "            Data.append(namestring)\n",
        "        else:\n",
        "            Data.append(\"Invalid\")\n",
        "\n",
        "\n",
        "#Father name block\n",
        "    for i in range(Fname.end(),Mname.start()):\n",
        "        fnamestring=fnamestring+string1[i]\n",
        "    fnamestring=fnamestring.replace(\" \",\"\")\n",
        "    #Father name validation\n",
        "    if (not fnamestring):\n",
        "        Data.append(\"Null\")\n",
        "    else:\n",
        "        if(not fnamestring.isdigit()):\n",
        "            Data.append(fnamestring)\n",
        "        else:\n",
        "            Data.append(\"Invalid\")\n",
        "\n",
        "\n",
        "#Mother name block\n",
        "    for i in range(Mname.end(),Dob.start()):\n",
        "        mnamestring=mnamestring+string1[i]\n",
        "    mnamestring=mnamestring.replace(\" \",\"\")\n",
        "    #Mother name validation\n",
        "    if (not mnamestring):\n",
        "        Data.append(\"Null\")\n",
        "    else:\n",
        "        if(not mnamestring.isdigit()):\n",
        "            Data.append(mnamestring)\n",
        "        else:\n",
        "            Data.append(\"Invalid\")\n",
        "\n",
        "\n",
        "#dob block\n",
        "    for i in range(Dob.end(),Gender.start()):\n",
        "        dobstring=dobstring+string1[i]\n",
        "    dobstring=dobstring.replace(\" \",\"\")\n",
        "    #Dob validation\n",
        "    if (not dobstring):\n",
        "        Data.append(\"Null\")\n",
        "    else:\n",
        "        Data.append(dobstring)\n",
        "\n",
        "\n",
        "#gender block\n",
        "    for i in range(Gender.end(),Phone.start()):\n",
        "        genderstring=genderstring+string1[i]\n",
        "    genderstring=genderstring.replace(\" \",\"\")\n",
        "    #Gender validation\n",
        "    if (not genderstring):\n",
        "        Data.append(\"Null\")\n",
        "    else:\n",
        "        if(not genderstring.isdigit()):\n",
        "            if(genderstring=='male' or genderstring=='Male' or genderstring=='female' or genderstring=='Female' or genderstring=='Other' or genderstring=='other'):\n",
        "                Data.append(genderstring)\n",
        "            else:\n",
        "                Data.append(\"Invalid\")\n",
        "        else:\n",
        "            Data.append(\"Invalid\")\n",
        "\n",
        "\n",
        "#Phone block\n",
        "    for i in range(Phone.end(),Place.start()):\n",
        "        phonestring=phonestring+string1[i]\n",
        "    phonestring=phonestring.replace(\" \",\"\")\n",
        "    #Phone validation\n",
        "    if(phonestring.isdigit()):\n",
        "        if (len(phonestring)==10):\n",
        "            pattern=\"[9876][^.......$]\"  \n",
        "            match = re.match(pattern,phonestring) \n",
        "            if match: \n",
        "                Data.append(phonestring)\n",
        "            else:\n",
        "                Data.append(\"Invalid\")\n",
        "        else:\n",
        "            Data.append(\"Invalid\")\n",
        "    else:\n",
        "        Data.append(\"Invalid\")\n",
        "\n",
        "\n",
        "#Place block\n",
        "    for i in range(Place.end(),City.start()):\n",
        "        placestring=placestring+string1[i]\n",
        "    placestring=placestring.replace(\" \",\"\")\n",
        "    #Place validation\n",
        "    if (not placestring):\n",
        "        Data.append(\"Null\")\n",
        "    else:\n",
        "        if(not placestring.isdigit()):\n",
        "            Data.append(placestring)\n",
        "        else:\n",
        "            Data.append(\"Invalid\")\n",
        "\n",
        "\n",
        "#City block\n",
        "    for i in range(City.end(),State.start()):\n",
        "        citystring=citystring+string1[i]\n",
        "    citystring=citystring.replace(\" \",\"\")\n",
        "    #city validation\n",
        "    if (not citystring):\n",
        "        Data.append(\"Null\")\n",
        "    else:\n",
        "        if(not citystring.isdigit()):\n",
        "            Data.append(citystring)\n",
        "        else:\n",
        "            Data.append(\"Invalid\")\n",
        "\n",
        "\n",
        "#State block\n",
        "    for i in range(State.end(),Undertaking.start()):\n",
        "        statestring=statestring+string1[i]\n",
        "    statestring=statestring.replace(\" \",\"\")\n",
        "    #state validation\n",
        "    if (not statestring):\n",
        "        Data.append(\"Null\")\n",
        "    else:\n",
        "        if(not statestring.isdigit()):\n",
        "            Data.append(statestring)\n",
        "        else:\n",
        "            Data.append(\"Invalid\")\n",
        "\n",
        "    #Signature validation\n",
        "    try:\n",
        "        for i in range(Signature.end(),Signature.end()+1):\n",
        "            signstring=signstring+string1\n",
        "        signstring=signstring.replace(\" \",\"\")\n",
        "    except:\n",
        "        Data.append(\"Sign Rejected\")\n",
        "    else:\n",
        "        if(not signstring):\n",
        "            Data.append(\"Sign Rejected\")\n",
        "        else:\n",
        "            Data.append(\"Sign Accepted\")"
      ],
      "metadata": {
        "id": "EZniljHXzh46"
      },
      "id": "EZniljHXzh46",
      "execution_count": 227,
      "outputs": []
    },
    {
      "cell_type": "code",
      "source": [
        "def photosender(img):\n",
        "\n",
        "    #function call to ocr maker function\n",
        "    ocrmaker(img)\n",
        "\n",
        "    #function call to mirror checker function\n",
        "    mirrorChecker(img)\n",
        "\n",
        "    #function call to append the converted text into string and further manipulation\n",
        "    stringappender()"
      ],
      "metadata": {
        "id": "TvxoL6nz3pjd"
      },
      "id": "TvxoL6nz3pjd",
      "execution_count": 221,
      "outputs": []
    },
    {
      "cell_type": "code",
      "source": [
        "#Send your document image here\n",
        "photosender('/content/Main.jpeg')"
      ],
      "metadata": {
        "id": "V-DFgbLc19cH"
      },
      "id": "V-DFgbLc19cH",
      "execution_count": 231,
      "outputs": []
    },
    {
      "cell_type": "code",
      "source": [
        "print(Data)"
      ],
      "metadata": {
        "colab": {
          "base_uri": "https://localhost:8080/"
        },
        "id": "KEaGVcjM-ua8",
        "outputId": "d2cfe656-7769-432b-c64d-7257f24073a8"
      },
      "id": "KEaGVcjM-ua8",
      "execution_count": 232,
      "outputs": [
        {
          "output_type": "stream",
          "name": "stdout",
          "text": [
            "['Photo Accepted', 'R.lokulprasath', 'V.Raguraman', 'R.Anbarasi', '10/07/2002', 'Male', '9943170426', 'Puducherry', 'Puducherry', 'Puducherry', 'Sign Accepted']\n"
          ]
        }
      ]
    },
    {
      "cell_type": "code",
      "source": [
        "print(list1)"
      ],
      "metadata": {
        "colab": {
          "base_uri": "https://localhost:8080/"
        },
        "id": "Q7GXqTFn_Rdf",
        "outputId": "70270509-f543-41e7-c1e9-0e0fd09f57fc"
      },
      "id": "Q7GXqTFn_Rdf",
      "execution_count": 229,
      "outputs": [
        {
          "output_type": "stream",
          "name": "stdout",
          "text": [
            "[]\n"
          ]
        }
      ]
    },
    {
      "cell_type": "code",
      "source": [
        ""
      ],
      "metadata": {
        "id": "DGdicBgXIMHg"
      },
      "id": "DGdicBgXIMHg",
      "execution_count": null,
      "outputs": []
    }
  ],
  "metadata": {
    "colab": {
      "collapsed_sections": [],
      "name": "Form_Scrutinizer.ipynb",
      "provenance": []
    },
    "kernelspec": {
      "display_name": "Python 3 (ipykernel)",
      "language": "python",
      "name": "python3"
    },
    "language_info": {
      "codemirror_mode": {
        "name": "ipython",
        "version": 3
      },
      "file_extension": ".py",
      "mimetype": "text/x-python",
      "name": "python",
      "nbconvert_exporter": "python",
      "pygments_lexer": "ipython3",
      "version": "3.9.7"
    }
  },
  "nbformat": 4,
  "nbformat_minor": 5
}